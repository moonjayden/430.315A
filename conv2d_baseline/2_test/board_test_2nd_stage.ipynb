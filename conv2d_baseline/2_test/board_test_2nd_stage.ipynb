{
 "cells": [
  {
   "cell_type": "markdown",
   "metadata": {},
   "source": [
    "# 2020 Final Project - MNIST\n",
    "---\n",
    "# Board Test for Debugging"
   ]
  },
  {
   "cell_type": "code",
   "execution_count": 1,
   "metadata": {},
   "outputs": [],
   "source": [
    "from uart import *\n",
    "from module import *\n",
    "\n",
    "from matplotlib import pyplot as plt\n",
    "import numpy as np\n",
    "%matplotlib inline"
   ]
  },
  {
   "cell_type": "markdown",
   "metadata": {},
   "source": [
    "### Simulation data for board test"
   ]
  },
  {
   "cell_type": "code",
   "execution_count": 14,
   "metadata": {},
   "outputs": [
    {
     "name": "stdout",
     "output_type": "stream",
     "text": [
      "\n",
      "board test를 시작합니다.\n",
      "\n",
      "Current OS: Windows\n",
      "['COM1', 'COM5']\n",
      "COM1 port cannot be connected.\n",
      "COM5 port connected!\n",
      "\n"
     ]
    }
   ],
   "source": [
    "print(\"\")\n",
    "print(\"board test를 시작합니다.\")\n",
    "print(\"\")\n",
    "plist = port_list()\n",
    "for pname in plist:\n",
    "    try:\n",
    "        SU = Scale_UART(str(pname))\n",
    "        print(\"%s port connected!\" %(pname))\n",
    "        break\n",
    "    except serial.SerialException:\n",
    "        print(\"%s port cannot be connected.\" %(pname))\n",
    "print(\"\")\n",
    "SU.su_flush_buffer()"
   ]
  },
  {
   "cell_type": "code",
   "execution_count": null,
   "metadata": {},
   "outputs": [
    {
     "name": "stdout",
     "output_type": "stream",
     "text": [
      "Accuracy :  100.0 %                                                 \n",
      "Accuracy :  100.0 %                                                 \n",
      "Accuracy :  100.0 %                                                 \n",
      "Accuracy :  100.0 %                                                 \n",
      "Accuracy :  100.0 %                                                 \n",
      "Accuracy :  100.0 %                                                 \n",
      "Accuracy :  100.0 %                                                 \n",
      "Accuracy :  100.0 %                                                 \n",
      "Accuracy :  100.0 %                                                 \n",
      "Accuracy :  100.0 %                                                 \n",
      "Accuracy :  100.0 %                                                 \n",
      "Accuracy :  100.0 %                                                 \n",
      "Accuracy :  100.0 %                                                 \n",
      "Accuracy :  100.0 %                                                 \n",
      "88/100                            "
     ]
    }
   ],
   "source": [
    "cycle = 0\n",
    "correct = 0\n",
    "wrong_index = []\n",
    "\n",
    "# test image number\n",
    "NUM = 100\n",
    "ITER = 1000\n",
    "\n",
    "for k in range(ITER):\n",
    "    input_quan = q8bit_func(np.random.rand(NUM, 28, 28) - 0.5)\n",
    "    out, out_index = sw_inference(input_quan)\n",
    "    # print(out_index)\n",
    "    print(\"                                  \",end = \"\\r\", flush=True)\n",
    "\n",
    "    for i in range(NUM):\n",
    "        packet = []\n",
    "        hw_input = convert_to_hw_input(input_quan)\n",
    "        for j in range(784):\n",
    "            packet.append(int(hw_input[i*784+j],2))\n",
    "        SU.snd_packet(packet)\n",
    "        label, cycle_d = get_info(SU.rcv_packet(5))\n",
    "        if label == out_index[i]:\n",
    "            correct += 1\n",
    "        else:\n",
    "            wrong_index.append(i)\n",
    "        cycle += cycle_d\n",
    "        sys.stdout.write('\\r'+str(i+1)+'/'+str(NUM))\n",
    "        sys.stdout.flush()\n",
    "    print(\"                                  \", end = \"\\r\", flush=True)\n",
    "    print('Accuracy : ', str(correct/(NUM*(k+1))*100), '%',end = \"\\r\", flush=True)\n",
    "    print(\"\")\n",
    "print(\"\")\n",
    "print('Accuracy : ', str(correct/(NUM*ITER)*100), '%')\n",
    "print('Cycle : ', str(int(cycle/(NUM*ITER))))\n",
    "# print(f'Wrong Label : {wrong_index}')\n",
    "print('')\n",
    "if (correct == NUM*ITER):\n",
    "    print(\"Board Test에 통과하였습니다! client test를 진행해 주세요.\")\n",
    "if (correct != NUM*ITER):\n",
    "    print(\"잘못된 결과가 있습니다. debugging이 필요합니다.\")\n",
    "    print(\"초기화 문제인지 파악을 위해 RESET(C12) 버튼을 누르고 아래의 코드를 실행해주세요.\")"
   ]
  },
  {
   "cell_type": "code",
   "execution_count": null,
   "metadata": {},
   "outputs": [],
   "source": []
  }
 ],
 "metadata": {
  "kernelspec": {
   "display_name": "Python 3 (ipykernel)",
   "language": "python",
   "name": "python3"
  },
  "language_info": {
   "codemirror_mode": {
    "name": "ipython",
    "version": 3
   },
   "file_extension": ".py",
   "mimetype": "text/x-python",
   "name": "python",
   "nbconvert_exporter": "python",
   "pygments_lexer": "ipython3",
   "version": "3.9.6"
  }
 },
 "nbformat": 4,
 "nbformat_minor": 2
}
