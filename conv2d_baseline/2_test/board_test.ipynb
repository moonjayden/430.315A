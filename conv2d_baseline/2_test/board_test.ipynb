{
 "cells": [
  {
   "cell_type": "markdown",
   "metadata": {},
   "source": [
    "# 2020 Final Project - MNIST\n",
    "---\n",
    "# Board Test for Debugging"
   ]
  },
  {
   "cell_type": "code",
   "execution_count": 1,
   "metadata": {},
   "outputs": [],
   "source": [
    "from uart import *\n",
    "from module import *\n",
    "\n",
    "from matplotlib import pyplot as plt\n",
    "import numpy as np\n",
    "%matplotlib inline"
   ]
  },
  {
   "cell_type": "markdown",
   "metadata": {},
   "source": [
    "### Simulation data for board test"
   ]
  },
  {
   "cell_type": "code",
   "execution_count": 2,
   "metadata": {},
   "outputs": [],
   "source": [
    "# test image number\n",
    "NUM = 100\n",
    "input_quan = q8bit_func(np.random.rand(NUM, 28, 28) - 0.5)"
   ]
  },
  {
   "cell_type": "markdown",
   "metadata": {},
   "source": [
    "### Do inference with software version"
   ]
  },
  {
   "cell_type": "code",
   "execution_count": 3,
   "metadata": {},
   "outputs": [
    {
     "name": "stdout",
     "output_type": "stream",
     "text": [
      "[array([[[2]]], dtype=int64), array([[[2]]], dtype=int64), array([[[5]]], dtype=int64), array([[[2]]], dtype=int64), array([[[2]]], dtype=int64), array([[[3]]], dtype=int64), array([[[7]]], dtype=int64), array([[[2]]], dtype=int64), array([[[0]]], dtype=int64), array([[[5]]], dtype=int64), array([[[5]]], dtype=int64), array([[[2]]], dtype=int64), array([[[5]]], dtype=int64), array([[[5]]], dtype=int64), array([[[3]]], dtype=int64), array([[[5]]], dtype=int64), array([[[2]]], dtype=int64), array([[[2]]], dtype=int64), array([[[5]]], dtype=int64), array([[[3]]], dtype=int64), array([[[1]]], dtype=int64), array([[[5]]], dtype=int64), array([[[5]]], dtype=int64), array([[[5]]], dtype=int64), array([[[2]]], dtype=int64), array([[[6]]], dtype=int64), array([[[2]]], dtype=int64), array([[[5]]], dtype=int64), array([[[2]]], dtype=int64), array([[[3]]], dtype=int64), array([[[3]]], dtype=int64), array([[[5]]], dtype=int64), array([[[5]]], dtype=int64), array([[[3]]], dtype=int64), array([[[2]]], dtype=int64), array([[[2]]], dtype=int64), array([[[6]]], dtype=int64), array([[[3]]], dtype=int64), array([[[3]]], dtype=int64), array([[[5]]], dtype=int64), array([[[2]]], dtype=int64), array([[[2]]], dtype=int64), array([[[3]]], dtype=int64), array([[[2]]], dtype=int64), array([[[5]]], dtype=int64), array([[[2]]], dtype=int64), array([[[3]]], dtype=int64), array([[[5]]], dtype=int64), array([[[3]]], dtype=int64), array([[[2]]], dtype=int64), array([[[2]]], dtype=int64), array([[[3]]], dtype=int64), array([[[2]]], dtype=int64), array([[[5]]], dtype=int64), array([[[2]]], dtype=int64), array([[[2]]], dtype=int64), array([[[5]]], dtype=int64), array([[[2]]], dtype=int64), array([[[2]]], dtype=int64), array([[[2]]], dtype=int64), array([[[2]]], dtype=int64), array([[[3]]], dtype=int64), array([[[5]]], dtype=int64), array([[[2]]], dtype=int64), array([[[5]]], dtype=int64), array([[[2]]], dtype=int64), array([[[5]]], dtype=int64), array([[[3]]], dtype=int64), array([[[2]]], dtype=int64), array([[[3]]], dtype=int64), array([[[2]]], dtype=int64), array([[[2]]], dtype=int64), array([[[5]]], dtype=int64), array([[[3]]], dtype=int64), array([[[2]]], dtype=int64), array([[[5]]], dtype=int64), array([[[3]]], dtype=int64), array([[[3]]], dtype=int64), array([[[5]]], dtype=int64), array([[[2]]], dtype=int64), array([[[1]]], dtype=int64), array([[[5]]], dtype=int64), array([[[5]]], dtype=int64), array([[[5]]], dtype=int64), array([[[2]]], dtype=int64), array([[[1]]], dtype=int64), array([[[2]]], dtype=int64), array([[[5]]], dtype=int64), array([[[5]]], dtype=int64), array([[[8]]], dtype=int64), array([[[5]]], dtype=int64), array([[[3]]], dtype=int64), array([[[3]]], dtype=int64), array([[[5]]], dtype=int64), array([[[2]]], dtype=int64), array([[[2]]], dtype=int64), array([[[3]]], dtype=int64), array([[[3]]], dtype=int64), array([[[2]]], dtype=int64), array([[[3]]], dtype=int64), array([[[8]]], dtype=int64), array([[[2]]], dtype=int64), array([[[5]]], dtype=int64), array([[[3]]], dtype=int64), array([[[3]]], dtype=int64), array([[[3]]], dtype=int64), array([[[2]]], dtype=int64), array([[[2]]], dtype=int64), array([[[3]]], dtype=int64), array([[[2]]], dtype=int64), array([[[3]]], dtype=int64), array([[[2]]], dtype=int64), array([[[3]]], dtype=int64), array([[[2]]], dtype=int64), array([[[3]]], dtype=int64), array([[[2]]], dtype=int64), array([[[2]]], dtype=int64), array([[[3]]], dtype=int64), array([[[3]]], dtype=int64), array([[[3]]], dtype=int64), array([[[3]]], dtype=int64), array([[[3]]], dtype=int64), array([[[2]]], dtype=int64), array([[[2]]], dtype=int64), array([[[3]]], dtype=int64), array([[[2]]], dtype=int64), array([[[5]]], dtype=int64), array([[[3]]], dtype=int64), array([[[2]]], dtype=int64), array([[[3]]], dtype=int64), array([[[3]]], dtype=int64), array([[[5]]], dtype=int64), array([[[2]]], dtype=int64), array([[[2]]], dtype=int64), array([[[2]]], dtype=int64), array([[[3]]], dtype=int64), array([[[5]]], dtype=int64), array([[[2]]], dtype=int64), array([[[4]]], dtype=int64), array([[[3]]], dtype=int64), array([[[2]]], dtype=int64), array([[[2]]], dtype=int64), array([[[5]]], dtype=int64), array([[[3]]], dtype=int64), array([[[5]]], dtype=int64), array([[[5]]], dtype=int64), array([[[3]]], dtype=int64), array([[[1]]], dtype=int64), array([[[2]]], dtype=int64), array([[[5]]], dtype=int64), array([[[3]]], dtype=int64), array([[[2]]], dtype=int64), array([[[2]]], dtype=int64), array([[[2]]], dtype=int64), array([[[2]]], dtype=int64), array([[[1]]], dtype=int64), array([[[2]]], dtype=int64), array([[[2]]], dtype=int64), array([[[3]]], dtype=int64), array([[[5]]], dtype=int64), array([[[5]]], dtype=int64), array([[[3]]], dtype=int64), array([[[3]]], dtype=int64), array([[[2]]], dtype=int64), array([[[3]]], dtype=int64), array([[[5]]], dtype=int64), array([[[1]]], dtype=int64), array([[[2]]], dtype=int64), array([[[3]]], dtype=int64), array([[[2]]], dtype=int64), array([[[3]]], dtype=int64), array([[[5]]], dtype=int64), array([[[3]]], dtype=int64), array([[[2]]], dtype=int64), array([[[5]]], dtype=int64), array([[[3]]], dtype=int64), array([[[7]]], dtype=int64), array([[[2]]], dtype=int64), array([[[3]]], dtype=int64), array([[[2]]], dtype=int64), array([[[2]]], dtype=int64), array([[[2]]], dtype=int64), array([[[3]]], dtype=int64), array([[[2]]], dtype=int64), array([[[3]]], dtype=int64), array([[[2]]], dtype=int64), array([[[2]]], dtype=int64), array([[[2]]], dtype=int64), array([[[2]]], dtype=int64), array([[[2]]], dtype=int64), array([[[2]]], dtype=int64), array([[[5]]], dtype=int64), array([[[2]]], dtype=int64), array([[[3]]], dtype=int64), array([[[2]]], dtype=int64), array([[[5]]], dtype=int64), array([[[3]]], dtype=int64), array([[[2]]], dtype=int64), array([[[3]]], dtype=int64), array([[[5]]], dtype=int64), array([[[2]]], dtype=int64), array([[[5]]], dtype=int64), array([[[5]]], dtype=int64), array([[[3]]], dtype=int64), array([[[2]]], dtype=int64), array([[[7]]], dtype=int64), array([[[5]]], dtype=int64), array([[[8]]], dtype=int64), array([[[6]]], dtype=int64), array([[[1]]], dtype=int64), array([[[5]]], dtype=int64), array([[[3]]], dtype=int64), array([[[5]]], dtype=int64), array([[[2]]], dtype=int64), array([[[8]]], dtype=int64), array([[[2]]], dtype=int64), array([[[5]]], dtype=int64), array([[[2]]], dtype=int64), array([[[2]]], dtype=int64), array([[[5]]], dtype=int64), array([[[7]]], dtype=int64), array([[[2]]], dtype=int64), array([[[3]]], dtype=int64), array([[[5]]], dtype=int64), array([[[5]]], dtype=int64), array([[[3]]], dtype=int64), array([[[3]]], dtype=int64), array([[[5]]], dtype=int64), array([[[2]]], dtype=int64), array([[[0]]], dtype=int64), array([[[2]]], dtype=int64), array([[[5]]], dtype=int64), array([[[2]]], dtype=int64), array([[[2]]], dtype=int64), array([[[2]]], dtype=int64), array([[[2]]], dtype=int64), array([[[2]]], dtype=int64), array([[[2]]], dtype=int64), array([[[5]]], dtype=int64), array([[[2]]], dtype=int64), array([[[2]]], dtype=int64), array([[[5]]], dtype=int64), array([[[3]]], dtype=int64), array([[[5]]], dtype=int64), array([[[3]]], dtype=int64), array([[[2]]], dtype=int64), array([[[7]]], dtype=int64), array([[[2]]], dtype=int64), array([[[2]]], dtype=int64), array([[[3]]], dtype=int64), array([[[2]]], dtype=int64), array([[[3]]], dtype=int64), array([[[2]]], dtype=int64), array([[[3]]], dtype=int64), array([[[2]]], dtype=int64), array([[[2]]], dtype=int64), array([[[5]]], dtype=int64), array([[[5]]], dtype=int64), array([[[3]]], dtype=int64), array([[[5]]], dtype=int64), array([[[5]]], dtype=int64), array([[[2]]], dtype=int64), array([[[2]]], dtype=int64), array([[[2]]], dtype=int64), array([[[3]]], dtype=int64), array([[[5]]], dtype=int64), array([[[1]]], dtype=int64), array([[[7]]], dtype=int64), array([[[2]]], dtype=int64), array([[[3]]], dtype=int64), array([[[2]]], dtype=int64), array([[[5]]], dtype=int64), array([[[5]]], dtype=int64), array([[[2]]], dtype=int64), array([[[3]]], dtype=int64), array([[[1]]], dtype=int64), array([[[5]]], dtype=int64), array([[[5]]], dtype=int64), array([[[5]]], dtype=int64), array([[[1]]], dtype=int64), array([[[2]]], dtype=int64), array([[[2]]], dtype=int64), array([[[1]]], dtype=int64), array([[[2]]], dtype=int64), array([[[3]]], dtype=int64), array([[[2]]], dtype=int64), array([[[2]]], dtype=int64), array([[[5]]], dtype=int64), array([[[5]]], dtype=int64), array([[[5]]], dtype=int64), array([[[5]]], dtype=int64), array([[[2]]], dtype=int64), array([[[5]]], dtype=int64), array([[[5]]], dtype=int64), array([[[5]]], dtype=int64), array([[[2]]], dtype=int64), array([[[2]]], dtype=int64), array([[[5]]], dtype=int64), array([[[3]]], dtype=int64), array([[[3]]], dtype=int64), array([[[1]]], dtype=int64), array([[[5]]], dtype=int64), array([[[3]]], dtype=int64), array([[[2]]], dtype=int64), array([[[2]]], dtype=int64), array([[[5]]], dtype=int64), array([[[5]]], dtype=int64), array([[[2]]], dtype=int64), array([[[5]]], dtype=int64), array([[[2]]], dtype=int64), array([[[2]]], dtype=int64), array([[[2]]], dtype=int64), array([[[3]]], dtype=int64), array([[[2]]], dtype=int64), array([[[0]]], dtype=int64), array([[[3]]], dtype=int64), array([[[2]]], dtype=int64), array([[[2]]], dtype=int64), array([[[2]]], dtype=int64), array([[[2]]], dtype=int64), array([[[3]]], dtype=int64), array([[[5]]], dtype=int64), array([[[5]]], dtype=int64), array([[[3]]], dtype=int64), array([[[3]]], dtype=int64), array([[[5]]], dtype=int64), array([[[2]]], dtype=int64), array([[[3]]], dtype=int64), array([[[2]]], dtype=int64), array([[[5]]], dtype=int64), array([[[1]]], dtype=int64), array([[[3]]], dtype=int64), array([[[1]]], dtype=int64), array([[[8]]], dtype=int64), array([[[2]]], dtype=int64), array([[[2]]], dtype=int64), array([[[7]]], dtype=int64), array([[[2]]], dtype=int64), array([[[2]]], dtype=int64), array([[[3]]], dtype=int64), array([[[2]]], dtype=int64), array([[[2]]], dtype=int64), array([[[3]]], dtype=int64), array([[[0]]], dtype=int64), array([[[2]]], dtype=int64), array([[[2]]], dtype=int64), array([[[5]]], dtype=int64), array([[[2]]], dtype=int64), array([[[3]]], dtype=int64), array([[[7]]], dtype=int64), array([[[3]]], dtype=int64), array([[[3]]], dtype=int64), array([[[3]]], dtype=int64), array([[[2]]], dtype=int64), array([[[3]]], dtype=int64), array([[[2]]], dtype=int64), array([[[2]]], dtype=int64), array([[[2]]], dtype=int64), array([[[5]]], dtype=int64), array([[[2]]], dtype=int64), array([[[2]]], dtype=int64), array([[[3]]], dtype=int64), array([[[2]]], dtype=int64), array([[[3]]], dtype=int64), array([[[2]]], dtype=int64), array([[[3]]], dtype=int64), array([[[3]]], dtype=int64), array([[[2]]], dtype=int64), array([[[2]]], dtype=int64), array([[[3]]], dtype=int64), array([[[2]]], dtype=int64), array([[[5]]], dtype=int64), array([[[7]]], dtype=int64), array([[[5]]], dtype=int64), array([[[2]]], dtype=int64), array([[[5]]], dtype=int64), array([[[2]]], dtype=int64), array([[[2]]], dtype=int64), array([[[2]]], dtype=int64), array([[[5]]], dtype=int64), array([[[3]]], dtype=int64), array([[[2]]], dtype=int64), array([[[3]]], dtype=int64), array([[[3]]], dtype=int64), array([[[5]]], dtype=int64), array([[[2]]], dtype=int64), array([[[2]]], dtype=int64), array([[[5]]], dtype=int64), array([[[5]]], dtype=int64), array([[[2]]], dtype=int64), array([[[2]]], dtype=int64), array([[[5]]], dtype=int64), array([[[2]]], dtype=int64), array([[[3]]], dtype=int64), array([[[3]]], dtype=int64), array([[[3]]], dtype=int64), array([[[5]]], dtype=int64), array([[[1]]], dtype=int64), array([[[5]]], dtype=int64), array([[[5]]], dtype=int64), array([[[5]]], dtype=int64), array([[[1]]], dtype=int64), array([[[2]]], dtype=int64), array([[[2]]], dtype=int64), array([[[2]]], dtype=int64), array([[[2]]], dtype=int64), array([[[5]]], dtype=int64), array([[[2]]], dtype=int64), array([[[2]]], dtype=int64), array([[[3]]], dtype=int64), array([[[2]]], dtype=int64), array([[[1]]], dtype=int64), array([[[2]]], dtype=int64), array([[[5]]], dtype=int64), array([[[5]]], dtype=int64), array([[[2]]], dtype=int64), array([[[2]]], dtype=int64), array([[[2]]], dtype=int64), array([[[3]]], dtype=int64), array([[[5]]], dtype=int64), array([[[3]]], dtype=int64), array([[[1]]], dtype=int64), array([[[7]]], dtype=int64), array([[[2]]], dtype=int64), array([[[2]]], dtype=int64), array([[[3]]], dtype=int64), array([[[5]]], dtype=int64), array([[[2]]], dtype=int64), array([[[3]]], dtype=int64), array([[[3]]], dtype=int64), array([[[3]]], dtype=int64), array([[[5]]], dtype=int64), array([[[5]]], dtype=int64), array([[[3]]], dtype=int64), array([[[2]]], dtype=int64), array([[[5]]], dtype=int64), array([[[3]]], dtype=int64), array([[[2]]], dtype=int64), array([[[3]]], dtype=int64), array([[[5]]], dtype=int64), array([[[2]]], dtype=int64), array([[[2]]], dtype=int64), array([[[2]]], dtype=int64), array([[[3]]], dtype=int64), array([[[5]]], dtype=int64), array([[[2]]], dtype=int64), array([[[5]]], dtype=int64), array([[[5]]], dtype=int64), array([[[2]]], dtype=int64), array([[[3]]], dtype=int64), array([[[2]]], dtype=int64), array([[[2]]], dtype=int64), array([[[2]]], dtype=int64), array([[[2]]], dtype=int64), array([[[2]]], dtype=int64), array([[[2]]], dtype=int64), array([[[5]]], dtype=int64), array([[[2]]], dtype=int64), array([[[5]]], dtype=int64), array([[[2]]], dtype=int64), array([[[5]]], dtype=int64), array([[[2]]], dtype=int64), array([[[5]]], dtype=int64), array([[[3]]], dtype=int64), array([[[1]]], dtype=int64), array([[[2]]], dtype=int64), array([[[5]]], dtype=int64), array([[[2]]], dtype=int64), array([[[3]]], dtype=int64), array([[[2]]], dtype=int64), array([[[3]]], dtype=int64), array([[[3]]], dtype=int64), array([[[2]]], dtype=int64), array([[[5]]], dtype=int64), array([[[2]]], dtype=int64), array([[[2]]], dtype=int64), array([[[5]]], dtype=int64), array([[[2]]], dtype=int64), array([[[2]]], dtype=int64), array([[[3]]], dtype=int64), array([[[3]]], dtype=int64), array([[[2]]], dtype=int64), array([[[5]]], dtype=int64), array([[[5]]], dtype=int64), array([[[2]]], dtype=int64), array([[[2]]], dtype=int64), array([[[5]]], dtype=int64), array([[[5]]], dtype=int64), array([[[2]]], dtype=int64), array([[[2]]], dtype=int64), array([[[3]]], dtype=int64), array([[[3]]], dtype=int64), array([[[3]]], dtype=int64), array([[[3]]], dtype=int64), array([[[2]]], dtype=int64), array([[[3]]], dtype=int64), array([[[2]]], dtype=int64), array([[[2]]], dtype=int64), array([[[6]]], dtype=int64), array([[[5]]], dtype=int64), array([[[2]]], dtype=int64), array([[[6]]], dtype=int64), array([[[5]]], dtype=int64), array([[[2]]], dtype=int64), array([[[5]]], dtype=int64), array([[[2]]], dtype=int64), array([[[3]]], dtype=int64), array([[[6]]], dtype=int64), array([[[3]]], dtype=int64), array([[[2]]], dtype=int64), array([[[6]]], dtype=int64), array([[[2]]], dtype=int64), array([[[5]]], dtype=int64), array([[[5]]], dtype=int64), array([[[3]]], dtype=int64), array([[[1]]], dtype=int64), array([[[2]]], dtype=int64), array([[[5]]], dtype=int64), array([[[1]]], dtype=int64), array([[[3]]], dtype=int64), array([[[3]]], dtype=int64), array([[[5]]], dtype=int64), array([[[2]]], dtype=int64), array([[[3]]], dtype=int64), array([[[3]]], dtype=int64), array([[[2]]], dtype=int64), array([[[1]]], dtype=int64), array([[[5]]], dtype=int64), array([[[3]]], dtype=int64), array([[[3]]], dtype=int64), array([[[3]]], dtype=int64), array([[[3]]], dtype=int64), array([[[5]]], dtype=int64), array([[[2]]], dtype=int64), array([[[5]]], dtype=int64), array([[[5]]], dtype=int64), array([[[2]]], dtype=int64), array([[[2]]], dtype=int64), array([[[2]]], dtype=int64), array([[[5]]], dtype=int64), array([[[2]]], dtype=int64), array([[[3]]], dtype=int64), array([[[3]]], dtype=int64), array([[[3]]], dtype=int64), array([[[3]]], dtype=int64), array([[[2]]], dtype=int64), array([[[3]]], dtype=int64), array([[[7]]], dtype=int64), array([[[0]]], dtype=int64), array([[[2]]], dtype=int64), array([[[5]]], dtype=int64), array([[[3]]], dtype=int64), array([[[5]]], dtype=int64), array([[[5]]], dtype=int64), array([[[5]]], dtype=int64), array([[[3]]], dtype=int64), array([[[2]]], dtype=int64), array([[[5]]], dtype=int64), array([[[2]]], dtype=int64), array([[[3]]], dtype=int64), array([[[5]]], dtype=int64), array([[[3]]], dtype=int64), array([[[2]]], dtype=int64), array([[[2]]], dtype=int64), array([[[5]]], dtype=int64), array([[[2]]], dtype=int64), array([[[2]]], dtype=int64), array([[[5]]], dtype=int64), array([[[5]]], dtype=int64), array([[[2]]], dtype=int64), array([[[5]]], dtype=int64), array([[[3]]], dtype=int64), array([[[2]]], dtype=int64), array([[[2]]], dtype=int64), array([[[3]]], dtype=int64), array([[[2]]], dtype=int64), array([[[2]]], dtype=int64), array([[[5]]], dtype=int64), array([[[7]]], dtype=int64), array([[[2]]], dtype=int64), array([[[5]]], dtype=int64), array([[[3]]], dtype=int64), array([[[2]]], dtype=int64), array([[[3]]], dtype=int64), array([[[2]]], dtype=int64), array([[[3]]], dtype=int64), array([[[5]]], dtype=int64), array([[[5]]], dtype=int64), array([[[3]]], dtype=int64), array([[[5]]], dtype=int64), array([[[5]]], dtype=int64), array([[[2]]], dtype=int64), array([[[3]]], dtype=int64), array([[[1]]], dtype=int64), array([[[5]]], dtype=int64), array([[[5]]], dtype=int64), array([[[3]]], dtype=int64), array([[[5]]], dtype=int64), array([[[2]]], dtype=int64), array([[[3]]], dtype=int64), array([[[5]]], dtype=int64), array([[[3]]], dtype=int64), array([[[7]]], dtype=int64), array([[[3]]], dtype=int64), array([[[2]]], dtype=int64), array([[[3]]], dtype=int64), array([[[5]]], dtype=int64), array([[[1]]], dtype=int64), array([[[5]]], dtype=int64), array([[[2]]], dtype=int64), array([[[5]]], dtype=int64), array([[[5]]], dtype=int64), array([[[5]]], dtype=int64), array([[[2]]], dtype=int64), array([[[2]]], dtype=int64), array([[[2]]], dtype=int64), array([[[2]]], dtype=int64), array([[[3]]], dtype=int64), array([[[3]]], dtype=int64), array([[[3]]], dtype=int64), array([[[1]]], dtype=int64), array([[[2]]], dtype=int64), array([[[2]]], dtype=int64), array([[[5]]], dtype=int64), array([[[5]]], dtype=int64), array([[[2]]], dtype=int64), array([[[3]]], dtype=int64), array([[[5]]], dtype=int64), array([[[2]]], dtype=int64), array([[[3]]], dtype=int64), array([[[5]]], dtype=int64), array([[[0]]], dtype=int64), array([[[3]]], dtype=int64), array([[[3]]], dtype=int64), array([[[2]]], dtype=int64), array([[[5]]], dtype=int64), array([[[2]]], dtype=int64), array([[[3]]], dtype=int64), array([[[6]]], dtype=int64), array([[[3]]], dtype=int64), array([[[3]]], dtype=int64), array([[[2]]], dtype=int64), array([[[2]]], dtype=int64), array([[[2]]], dtype=int64), array([[[5]]], dtype=int64), array([[[7]]], dtype=int64), array([[[3]]], dtype=int64), array([[[2]]], dtype=int64), array([[[2]]], dtype=int64), array([[[5]]], dtype=int64), array([[[5]]], dtype=int64), array([[[2]]], dtype=int64), array([[[7]]], dtype=int64), array([[[5]]], dtype=int64), array([[[2]]], dtype=int64), array([[[2]]], dtype=int64), array([[[2]]], dtype=int64), array([[[5]]], dtype=int64), array([[[5]]], dtype=int64), array([[[2]]], dtype=int64), array([[[6]]], dtype=int64), array([[[2]]], dtype=int64), array([[[5]]], dtype=int64), array([[[2]]], dtype=int64), array([[[2]]], dtype=int64), array([[[2]]], dtype=int64), array([[[5]]], dtype=int64), array([[[6]]], dtype=int64), array([[[2]]], dtype=int64), array([[[3]]], dtype=int64), array([[[5]]], dtype=int64), array([[[3]]], dtype=int64), array([[[3]]], dtype=int64), array([[[5]]], dtype=int64), array([[[2]]], dtype=int64), array([[[2]]], dtype=int64), array([[[5]]], dtype=int64), array([[[2]]], dtype=int64), array([[[5]]], dtype=int64), array([[[5]]], dtype=int64), array([[[2]]], dtype=int64), array([[[2]]], dtype=int64), array([[[3]]], dtype=int64), array([[[5]]], dtype=int64), array([[[3]]], dtype=int64), array([[[5]]], dtype=int64), array([[[5]]], dtype=int64), array([[[3]]], dtype=int64), array([[[2]]], dtype=int64), array([[[7]]], dtype=int64), array([[[3]]], dtype=int64), array([[[3]]], dtype=int64), array([[[2]]], dtype=int64), array([[[3]]], dtype=int64), array([[[5]]], dtype=int64), array([[[2]]], dtype=int64), array([[[2]]], dtype=int64), array([[[5]]], dtype=int64), array([[[6]]], dtype=int64), array([[[3]]], dtype=int64), array([[[6]]], dtype=int64), array([[[3]]], dtype=int64), array([[[3]]], dtype=int64), array([[[5]]], dtype=int64), array([[[3]]], dtype=int64), array([[[2]]], dtype=int64), array([[[3]]], dtype=int64), array([[[3]]], dtype=int64), array([[[5]]], dtype=int64), array([[[1]]], dtype=int64), array([[[5]]], dtype=int64), array([[[5]]], dtype=int64), array([[[1]]], dtype=int64), array([[[5]]], dtype=int64), array([[[5]]], dtype=int64), array([[[2]]], dtype=int64), array([[[2]]], dtype=int64), array([[[5]]], dtype=int64), array([[[2]]], dtype=int64), array([[[2]]], dtype=int64), array([[[3]]], dtype=int64), array([[[5]]], dtype=int64), array([[[3]]], dtype=int64), array([[[2]]], dtype=int64), array([[[2]]], dtype=int64), array([[[5]]], dtype=int64), array([[[8]]], dtype=int64), array([[[3]]], dtype=int64), array([[[5]]], dtype=int64), array([[[2]]], dtype=int64), array([[[3]]], dtype=int64), array([[[3]]], dtype=int64), array([[[5]]], dtype=int64), array([[[5]]], dtype=int64), array([[[5]]], dtype=int64), array([[[6]]], dtype=int64), array([[[7]]], dtype=int64), array([[[3]]], dtype=int64), array([[[5]]], dtype=int64), array([[[3]]], dtype=int64), array([[[2]]], dtype=int64), array([[[3]]], dtype=int64), array([[[3]]], dtype=int64), array([[[2]]], dtype=int64), array([[[2]]], dtype=int64), array([[[2]]], dtype=int64), array([[[3]]], dtype=int64), array([[[6]]], dtype=int64), array([[[2]]], dtype=int64), array([[[2]]], dtype=int64), array([[[2]]], dtype=int64), array([[[5]]], dtype=int64), array([[[2]]], dtype=int64), array([[[3]]], dtype=int64), array([[[6]]], dtype=int64), array([[[2]]], dtype=int64), array([[[3]]], dtype=int64), array([[[5]]], dtype=int64), array([[[1]]], dtype=int64), array([[[2]]], dtype=int64), array([[[2]]], dtype=int64), array([[[5]]], dtype=int64), array([[[5]]], dtype=int64), array([[[5]]], dtype=int64), array([[[2]]], dtype=int64), array([[[0]]], dtype=int64), array([[[2]]], dtype=int64), array([[[2]]], dtype=int64), array([[[2]]], dtype=int64), array([[[2]]], dtype=int64), array([[[3]]], dtype=int64), array([[[2]]], dtype=int64), array([[[2]]], dtype=int64), array([[[2]]], dtype=int64), array([[[2]]], dtype=int64), array([[[3]]], dtype=int64), array([[[5]]], dtype=int64), array([[[8]]], dtype=int64), array([[[2]]], dtype=int64), array([[[3]]], dtype=int64), array([[[5]]], dtype=int64), array([[[3]]], dtype=int64), array([[[2]]], dtype=int64), array([[[3]]], dtype=int64), array([[[2]]], dtype=int64), array([[[2]]], dtype=int64), array([[[2]]], dtype=int64), array([[[2]]], dtype=int64), array([[[3]]], dtype=int64), array([[[2]]], dtype=int64), array([[[2]]], dtype=int64), array([[[2]]], dtype=int64), array([[[3]]], dtype=int64), array([[[5]]], dtype=int64), array([[[7]]], dtype=int64), array([[[5]]], dtype=int64), array([[[1]]], dtype=int64), array([[[3]]], dtype=int64), array([[[5]]], dtype=int64), array([[[1]]], dtype=int64), array([[[2]]], dtype=int64), array([[[3]]], dtype=int64), array([[[2]]], dtype=int64), array([[[5]]], dtype=int64), array([[[2]]], dtype=int64), array([[[5]]], dtype=int64), array([[[2]]], dtype=int64), array([[[3]]], dtype=int64), array([[[3]]], dtype=int64), array([[[2]]], dtype=int64), array([[[3]]], dtype=int64), array([[[3]]], dtype=int64), array([[[8]]], dtype=int64), array([[[3]]], dtype=int64), array([[[5]]], dtype=int64), array([[[2]]], dtype=int64), array([[[2]]], dtype=int64), array([[[5]]], dtype=int64), array([[[2]]], dtype=int64), array([[[2]]], dtype=int64), array([[[2]]], dtype=int64), array([[[2]]], dtype=int64), array([[[3]]], dtype=int64), array([[[5]]], dtype=int64), array([[[5]]], dtype=int64), array([[[2]]], dtype=int64), array([[[2]]], dtype=int64), array([[[5]]], dtype=int64), array([[[8]]], dtype=int64), array([[[5]]], dtype=int64), array([[[2]]], dtype=int64), array([[[2]]], dtype=int64), array([[[3]]], dtype=int64), array([[[2]]], dtype=int64), array([[[5]]], dtype=int64), array([[[2]]], dtype=int64), array([[[3]]], dtype=int64), array([[[3]]], dtype=int64), array([[[2]]], dtype=int64), array([[[2]]], dtype=int64), array([[[3]]], dtype=int64), array([[[5]]], dtype=int64), array([[[3]]], dtype=int64), array([[[2]]], dtype=int64), array([[[8]]], dtype=int64), array([[[3]]], dtype=int64), array([[[2]]], dtype=int64), array([[[3]]], dtype=int64), array([[[3]]], dtype=int64), array([[[2]]], dtype=int64), array([[[2]]], dtype=int64), array([[[7]]], dtype=int64), array([[[2]]], dtype=int64), array([[[5]]], dtype=int64), array([[[6]]], dtype=int64), array([[[5]]], dtype=int64), array([[[2]]], dtype=int64), array([[[5]]], dtype=int64), array([[[3]]], dtype=int64), array([[[2]]], dtype=int64), array([[[3]]], dtype=int64), array([[[2]]], dtype=int64), array([[[2]]], dtype=int64), array([[[5]]], dtype=int64), array([[[5]]], dtype=int64), array([[[2]]], dtype=int64), array([[[5]]], dtype=int64), array([[[2]]], dtype=int64), array([[[5]]], dtype=int64), array([[[8]]], dtype=int64), array([[[2]]], dtype=int64), array([[[2]]], dtype=int64), array([[[5]]], dtype=int64), array([[[2]]], dtype=int64), array([[[1]]], dtype=int64), array([[[8]]], dtype=int64), array([[[3]]], dtype=int64), array([[[3]]], dtype=int64), array([[[5]]], dtype=int64), array([[[2]]], dtype=int64), array([[[2]]], dtype=int64), array([[[3]]], dtype=int64), array([[[3]]], dtype=int64), array([[[6]]], dtype=int64), array([[[5]]], dtype=int64), array([[[2]]], dtype=int64), array([[[2]]], dtype=int64), array([[[5]]], dtype=int64), array([[[5]]], dtype=int64), array([[[3]]], dtype=int64), array([[[8]]], dtype=int64), array([[[2]]], dtype=int64), array([[[3]]], dtype=int64), array([[[3]]], dtype=int64), array([[[5]]], dtype=int64), array([[[2]]], dtype=int64), array([[[2]]], dtype=int64), array([[[2]]], dtype=int64), array([[[2]]], dtype=int64), array([[[5]]], dtype=int64), array([[[3]]], dtype=int64), array([[[2]]], dtype=int64), array([[[2]]], dtype=int64), array([[[3]]], dtype=int64), array([[[2]]], dtype=int64), array([[[2]]], dtype=int64), array([[[4]]], dtype=int64), array([[[5]]], dtype=int64), array([[[5]]], dtype=int64), array([[[2]]], dtype=int64), array([[[5]]], dtype=int64), array([[[2]]], dtype=int64), array([[[3]]], dtype=int64), array([[[5]]], dtype=int64), array([[[0]]], dtype=int64), array([[[0]]], dtype=int64), array([[[2]]], dtype=int64), array([[[3]]], dtype=int64), array([[[3]]], dtype=int64), array([[[2]]], dtype=int64), array([[[5]]], dtype=int64), array([[[7]]], dtype=int64), array([[[1]]], dtype=int64), array([[[6]]], dtype=int64), array([[[5]]], dtype=int64), array([[[2]]], dtype=int64), array([[[1]]], dtype=int64), array([[[5]]], dtype=int64), array([[[2]]], dtype=int64), array([[[2]]], dtype=int64), array([[[3]]], dtype=int64), array([[[2]]], dtype=int64), array([[[2]]], dtype=int64), array([[[3]]], dtype=int64), array([[[3]]], dtype=int64), array([[[5]]], dtype=int64), array([[[3]]], dtype=int64), array([[[2]]], dtype=int64), array([[[2]]], dtype=int64), array([[[5]]], dtype=int64), array([[[2]]], dtype=int64), array([[[2]]], dtype=int64), array([[[5]]], dtype=int64), array([[[2]]], dtype=int64), array([[[3]]], dtype=int64), array([[[2]]], dtype=int64), array([[[5]]], dtype=int64), array([[[2]]], dtype=int64), array([[[3]]], dtype=int64), array([[[2]]], dtype=int64), array([[[2]]], dtype=int64), array([[[2]]], dtype=int64), array([[[2]]], dtype=int64), array([[[2]]], dtype=int64), array([[[2]]], dtype=int64), array([[[3]]], dtype=int64), array([[[5]]], dtype=int64), array([[[2]]], dtype=int64), array([[[0]]], dtype=int64), array([[[3]]], dtype=int64), array([[[2]]], dtype=int64), array([[[5]]], dtype=int64), array([[[3]]], dtype=int64), array([[[3]]], dtype=int64), array([[[6]]], dtype=int64), array([[[5]]], dtype=int64), array([[[2]]], dtype=int64), array([[[5]]], dtype=int64), array([[[2]]], dtype=int64), array([[[2]]], dtype=int64), array([[[3]]], dtype=int64), array([[[2]]], dtype=int64), array([[[5]]], dtype=int64), array([[[5]]], dtype=int64), array([[[5]]], dtype=int64), array([[[5]]], dtype=int64), array([[[2]]], dtype=int64), array([[[1]]], dtype=int64), array([[[2]]], dtype=int64), array([[[2]]], dtype=int64), array([[[1]]], dtype=int64), array([[[5]]], dtype=int64), array([[[2]]], dtype=int64), array([[[5]]], dtype=int64), array([[[5]]], dtype=int64), array([[[3]]], dtype=int64), array([[[3]]], dtype=int64), array([[[2]]], dtype=int64), array([[[5]]], dtype=int64), array([[[2]]], dtype=int64), array([[[1]]], dtype=int64), array([[[2]]], dtype=int64), array([[[2]]], dtype=int64), array([[[2]]], dtype=int64), array([[[3]]], dtype=int64), array([[[3]]], dtype=int64), array([[[2]]], dtype=int64), array([[[3]]], dtype=int64), array([[[2]]], dtype=int64), array([[[2]]], dtype=int64)]\n"
     ]
    }
   ],
   "source": [
    "out, out_index = sw_inference(input_quan)\n",
    "# print(out_index)"
   ]
  },
  {
   "cell_type": "code",
   "execution_count": 4,
   "metadata": {},
   "outputs": [
    {
     "name": "stdout",
     "output_type": "stream",
     "text": [
      "\n",
      "board test를 시작합니다.\n",
      "\n",
      "Current OS: Windows\n",
      "['COM1', 'COM5']\n",
      "COM1 port cannot be connected.\n",
      "COM5 port connected!\n",
      "\n"
     ]
    }
   ],
   "source": [
    "print(\"\")\n",
    "print(\"board test를 시작합니다.\")\n",
    "print(\"\")\n",
    "plist = port_list()\n",
    "for pname in plist:\n",
    "    try:\n",
    "        SU = Scale_UART(str(pname))\n",
    "        print(\"%s port connected!\" %(pname))\n",
    "        break\n",
    "    except serial.SerialException:\n",
    "        print(\"%s port cannot be connected.\" %(pname))\n",
    "print(\"\")\n",
    "SU.su_flush_buffer()"
   ]
  },
  {
   "cell_type": "code",
   "execution_count": 5,
   "metadata": {},
   "outputs": [
    {
     "name": "stdout",
     "output_type": "stream",
     "text": [
      "1000/1000\n",
      "Accuracy :  100.0 %\n",
      "Cycle :  1274166\n",
      "Wrong Label : []\n",
      "\n",
      "Board Test에 통과하였습니다! client test를 진행해 주세요.\n"
     ]
    }
   ],
   "source": [
    "cycle = 0\n",
    "correct = 0\n",
    "wrong_index = []\n",
    "\n",
    "for i in range(NUM):\n",
    "    packet = []\n",
    "    hw_input = convert_to_hw_input(input_quan)\n",
    "    for j in range(784):\n",
    "        packet.append(int(hw_input[i*784+j],2))\n",
    "    SU.snd_packet(packet)\n",
    "    label, cycle_d = get_info(SU.rcv_packet(5))\n",
    "    if label == out_index[i]:\n",
    "        correct += 1\n",
    "    else:\n",
    "        wrong_index.append(i)\n",
    "    cycle += cycle_d\n",
    "    sys.stdout.write('\\r'+str(i+1)+'/'+str(NUM))\n",
    "    sys.stdout.flush()\n",
    "print(\"\")\n",
    "print('Accuracy : ', str(correct/NUM*100), '%')\n",
    "print('Cycle : ', str(int(cycle/NUM)))\n",
    "print(f'Wrong Label : {wrong_index}')\n",
    "print('')\n",
    "if (correct == NUM):\n",
    "    print(\"Board Test에 통과하였습니다! Board_Test_2nd_stage를 진행해 주세요.\")\n",
    "if (correct != NUM):\n",
    "    print(\"잘못된 결과가 있습니다. debugging이 필요합니다.\")\n",
    "    print(\"초기화 문제인지 파악을 위해 RESET(C12) 버튼을 누르고 아래의 코드를 실행해주세요.\")"
   ]
  },
  {
   "cell_type": "markdown",
   "metadata": {},
   "source": [
    "### Do inference with FPGA"
   ]
  },
  {
   "cell_type": "markdown",
   "metadata": {},
   "source": [
    "### Reset FPGA\n",
    "board test에 실패했다면 아래의 코드를 실행하기 전에 보드를 reset 해주세요.  \n",
    "xdc 파일을 수정하지 않았다면 CPU RESET (C12)를 누르시면 됩니다."
   ]
  },
  {
   "cell_type": "markdown",
   "metadata": {},
   "source": [
    "### Check initialization and Extract debugging data"
   ]
  },
  {
   "cell_type": "code",
   "execution_count": 6,
   "metadata": {},
   "outputs": [],
   "source": [
    "if len(wrong_index) != 0:\n",
    "    packet = []\n",
    "    for j in range(784):\n",
    "        packet.append(int(hw_input[wrong_index[0]*784+j],2))\n",
    "    SU.snd_packet(packet)\n",
    "    label, cycle_d = get_info(SU.rcv_packet(5))\n",
    "    if label == out_index[i]:\n",
    "        correct += 1\n",
    "    else:\n",
    "        wrong_index.append(i)\n",
    "    if label == out_index[wrong_index[0]]:\n",
    "        print(\"초기화 후 inference 시 정상 동작합니다. 초기화 부분을 확인해주세요.\")\n",
    "    else:\n",
    "        print(\"초기화 후에도 값이 틀렸습니다. Debugging용 data를 추출합니다.\")\n",
    "        save_debugging_data(input_quan[wrong_index[0]], out_index[wrong_index[0]])"
   ]
  },
  {
   "cell_type": "code",
   "execution_count": 7,
   "metadata": {},
   "outputs": [],
   "source": [
    "debug_index = 1\n",
    "if len(wrong_index) > debug_index:\n",
    "    print(f'Index :: {wrong_index[debug_index]}')\n",
    "    packet = []\n",
    "    for j in range(784):\n",
    "        packet.append(int(hw_input[wrong_index[debug_index]*784+j],2))\n",
    "    SU.snd_packet(packet)\n",
    "    label, cycle_d = get_info(SU.rcv_packet(5))\n",
    "    if label == out_index[i]:\n",
    "        correct += 1\n",
    "    else:\n",
    "        wrong_index.append(i)\n",
    "    if label == out_index[wrong_index[debug_index]]:\n",
    "        print(\"초기화 후 inference 시 정상 동작합니다. 초기화 부분을 확인해주세요.\")\n",
    "    else:\n",
    "        print(\"초기화 후에도 값이 틀렸습니다. Debugging용 data를 추출합니다.\")\n",
    "        save_debugging_data(input_quan[wrong_index[debug_index]], out_index[wrong_index[debug_index]])"
   ]
  },
  {
   "cell_type": "markdown",
   "metadata": {},
   "source": [
    "Test Using Input_1"
   ]
  },
  {
   "cell_type": "code",
   "execution_count": null,
   "metadata": {},
   "outputs": [],
   "source": []
  }
 ],
 "metadata": {
  "kernelspec": {
   "display_name": "Python 3 (ipykernel)",
   "language": "python",
   "name": "python3"
  },
  "language_info": {
   "codemirror_mode": {
    "name": "ipython",
    "version": 3
   },
   "file_extension": ".py",
   "mimetype": "text/x-python",
   "name": "python",
   "nbconvert_exporter": "python",
   "pygments_lexer": "ipython3",
   "version": "3.9.6"
  }
 },
 "nbformat": 4,
 "nbformat_minor": 2
}
